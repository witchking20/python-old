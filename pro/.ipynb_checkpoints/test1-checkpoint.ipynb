{
 "cells": [
  {
   "cell_type": "code",
   "execution_count": null,
   "id": "1740004d",
   "metadata": {},
   "outputs": [],
   "source": [
    "# !pip install webdriver_manager\n",
    "from selenium import webdriver\n",
    "from selenium.webdriver.chrome.service import Service\n",
    "from webdriver_manager.chrome import ChromeDriverManager\n",
    "from selenium.webdriver.common.by import By\n",
    "from selenium.webdriver.common.keys import Keys\n",
    "import time\n",
    "from bs4 import BeautifulSoup\n",
    "import re\n",
    "import pandas as pd\n",
    "import numpy as np\n",
    "\n",
    "url = 'https://www.saramin.co.kr/zf_user/search?keydownAccess=&cat_mcls=2&company_cd=0%2C1%2C2%2C3%2C4%2C5%2C6%2C7%2C9%2C10&panel_type=&search_optional_item=y&search_done=y&panel_count=y&preview=y&recruitPage=1&recruitSort=relation&recruitPageCount=40&inner_com_type=&searchword=&show_applied=&quick_apply=&except_read=&ai_head_hunting=&mainSearch=n'\n",
    "driver.get(url)\n",
    "driver.page_source[1:1000]\n",
    "current_window_handle = driver.current_window_handle\n",
    "\n",
    "for i in range(1,356): \n",
    "    if i % 10 == 0:\n",
    "        time.sleep(5)\n",
    "        driver.find_element(By.LINK_TEXT , value = '다음').click() \n",
    "        continue\n",
    "    elif p.match(str(i)):\n",
    "        print('성공')\n",
    "        continue\n",
    "    time.sleep(2)\n",
    "    driver.find_element(By.LINK_TEXT , value = f'{i}').click() #value에 페이지 번호 말하면 눌러줌 단 10번 단위로 다음을 눌러줘야 작동가능\n",
    "    \n"
   ]
  }
 ],
 "metadata": {
  "kernelspec": {
   "display_name": "Python 3 (ipykernel)",
   "language": "python",
   "name": "python3"
  },
  "language_info": {
   "codemirror_mode": {
    "name": "ipython",
    "version": 3
   },
   "file_extension": ".py",
   "mimetype": "text/x-python",
   "name": "python",
   "nbconvert_exporter": "python",
   "pygments_lexer": "ipython3",
   "version": "3.9.12"
  }
 },
 "nbformat": 4,
 "nbformat_minor": 5
}
