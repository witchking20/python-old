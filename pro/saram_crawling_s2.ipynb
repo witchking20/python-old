{
 "cells": [
  {
   "cell_type": "code",
   "execution_count": null,
   "id": "d51b5872",
   "metadata": {},
   "outputs": [],
   "source": [
    "for i in range(1,5):\n",
    "    driver.find_element(''//*[@id=\"__next\"]/div[3]/div[2]/ul/li[i]'').click()"
   ]
  }
 ],
 "metadata": {
  "kernelspec": {
   "display_name": "Python 3 (ipykernel)",
   "language": "python",
   "name": "python3"
  },
  "language_info": {
   "codemirror_mode": {
    "name": "ipython",
    "version": 3
   },
   "file_extension": ".py",
   "mimetype": "text/x-python",
   "name": "python",
   "nbconvert_exporter": "python",
   "pygments_lexer": "ipython3",
   "version": "3.9.12"
  }
 },
 "nbformat": 4,
 "nbformat_minor": 5
}
