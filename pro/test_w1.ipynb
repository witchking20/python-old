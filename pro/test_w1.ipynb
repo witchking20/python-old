{
 "cells": [
  {
   "cell_type": "code",
   "execution_count": 3,
   "id": "a64e90e8",
   "metadata": {},
   "outputs": [],
   "source": [
    "# !pip install webdriver_manager\n",
    "from selenium import webdriver\n",
    "from selenium.webdriver.chrome.service import Service\n",
    "from webdriver_manager.chrome import ChromeDriverManager\n",
    "from selenium.webdriver.common.by import By\n",
    "from selenium.webdriver.common.keys import Keys\n",
    "import time\n",
    "from bs4 import BeautifulSoup\n",
    "import re\n",
    "import pandas as pd\n",
    "import numpy as np\n",
    "from tqdm import tqdm\n",
    "import os\n",
    "import pymysql"
   ]
  },
  {
   "cell_type": "code",
   "execution_count": 24,
   "id": "c8fb306a",
   "metadata": {},
   "outputs": [],
   "source": [
    "one = []  \n",
    "two = []\n",
    "three = []\n",
    "four = []\n",
    "\n",
    "title = []\n",
    "name = []\n",
    "career = []\n",
    "loc = []\n",
    "tag = []\n",
    "timeout = []\n",
    "loc2 = []"
   ]
  },
  {
   "cell_type": "code",
   "execution_count": 4,
   "id": "9745d54e",
   "metadata": {},
   "outputs": [],
   "source": [
    "driver = webdriver.Chrome(\"\")"
   ]
  },
  {
   "cell_type": "code",
   "execution_count": 5,
   "id": "b93802f6",
   "metadata": {},
   "outputs": [],
   "source": [
    "url = 'https://www.wanted.co.kr/wdlist/518?country=kr&job_sort=job.recommend_order&years=0&selected=873&selected=669&selected=1024&selected=655&selected=899&locations=seoul.all'\n",
    "driver.get(url)\n",
    "driver.page_source[1:1000]\n",
    "current_window_handle = driver.current_window_handle"
   ]
  },
  {
   "cell_type": "code",
   "execution_count": 7,
   "id": "253bbe60",
   "metadata": {},
   "outputs": [],
   "source": [
    "driver.find_element(By.XPATH, value='//*[@id=\"__next\"]/div[3]/div[2]/ul/li[1]').click()"
   ]
  },
  {
   "cell_type": "code",
   "execution_count": 19,
   "id": "3eddde39",
   "metadata": {},
   "outputs": [],
   "source": [
    "element = driver.find_element(By.XPATH, value='//*[@id=\"__next\"]/main/div[1]/div/section/header')"
   ]
  },
  {
   "cell_type": "code",
   "execution_count": 21,
   "id": "c1880f0e",
   "metadata": {},
   "outputs": [
    {
     "name": "stdout",
     "output_type": "stream",
     "text": [
      "오엠티아이코리아∙서울 서초구∙신입\n",
      "[신입] ASP.NET 개발자\n"
     ]
    }
   ],
   "source": [
    "print(element.text)\n",
    "one.append(element.text)"
   ]
  },
  {
   "cell_type": "code",
   "execution_count": 22,
   "id": "331bd426",
   "metadata": {},
   "outputs": [
    {
     "data": {
      "text/plain": [
       "['오엠티아이코리아∙서울 서초구∙신입', '[신입] ASP.NET 개발자']"
      ]
     },
     "execution_count": 22,
     "metadata": {},
     "output_type": "execute_result"
    }
   ],
   "source": [
    "element.text.split('\\n')"
   ]
  },
  {
   "cell_type": "code",
   "execution_count": 25,
   "id": "dab143f1",
   "metadata": {},
   "outputs": [
    {
     "name": "stdout",
     "output_type": "stream",
     "text": [
      "오엠티아이코리아\n",
      "서울 서초구\n",
      "신입\n",
      "[신입] ASP.NET 개발자\n"
     ]
    }
   ],
   "source": [
    "print(element.text.split('\\n')[0].split('∙')[0])\n",
    "print(element.text.split('\\n')[0].split('∙')[1])\n",
    "print(element.text.split('\\n')[0].split('∙')[2])\n",
    "print(element.text.split('\\n')[1])\n",
    "\n",
    "name.append(element.text.split('\\n')[0].split('∙')[0])\n",
    "loc.append(element.text.split('\\n')[0].split('∙')[1])\n",
    "career.append(element.text.split('\\n')[0].split('∙')[2])\n",
    "title.append(element.text.split('\\n')[1])"
   ]
  },
  {
   "cell_type": "code",
   "execution_count": 27,
   "id": "29c40c35",
   "metadata": {},
   "outputs": [],
   "source": [
    "element = driver.find_element(By.XPATH, value='//*[@id=\"__next\"]/main/div[1]/div/section/section/article[2]/ul')"
   ]
  },
  {
   "cell_type": "code",
   "execution_count": 30,
   "id": "24c1a727",
   "metadata": {},
   "outputs": [
    {
     "data": {
      "text/plain": [
       "'커피·스낵바\\n편의시설\\n연봉상위11~20%\\n50명이하\\n설립10년이상'"
      ]
     },
     "execution_count": 30,
     "metadata": {},
     "output_type": "execute_result"
    }
   ],
   "source": [
    "two.append(element.text)\n",
    "element.text"
   ]
  },
  {
   "cell_type": "code",
   "execution_count": 31,
   "id": "7d60deea",
   "metadata": {},
   "outputs": [
    {
     "data": {
      "text/plain": [
       "['커피·스낵바', '편의시설', '연봉상위11~20%', '50명이하', '설립10년이상']"
      ]
     },
     "execution_count": 31,
     "metadata": {},
     "output_type": "execute_result"
    }
   ],
   "source": [
    "element.text.split('\\n')"
   ]
  },
  {
   "cell_type": "code",
   "execution_count": 32,
   "id": "380bbdf6",
   "metadata": {},
   "outputs": [],
   "source": [
    "tag.append(element.text.split('\\n'))"
   ]
  },
  {
   "cell_type": "code",
   "execution_count": 33,
   "id": "1a0dd244",
   "metadata": {},
   "outputs": [
    {
     "data": {
      "text/plain": [
       "[['커피·스낵바', '편의시설', '연봉상위11~20%', '50명이하', '설립10년이상']]"
      ]
     },
     "execution_count": 33,
     "metadata": {},
     "output_type": "execute_result"
    }
   ],
   "source": [
    "tag"
   ]
  },
  {
   "cell_type": "code",
   "execution_count": 34,
   "id": "801f1b9e",
   "metadata": {},
   "outputs": [],
   "source": [
    "element = driver.find_element(By.XPATH, value='//*[@id=\"__next\"]/main/div[1]/div/section/section/article[3]/span')"
   ]
  },
  {
   "cell_type": "code",
   "execution_count": 36,
   "id": "0c921bc1",
   "metadata": {},
   "outputs": [
    {
     "data": {
      "text/plain": [
       "'2024.05.19'"
      ]
     },
     "execution_count": 36,
     "metadata": {},
     "output_type": "execute_result"
    }
   ],
   "source": [
    "three.append(element.text)\n",
    "element.text"
   ]
  },
  {
   "cell_type": "code",
   "execution_count": 38,
   "id": "433020ce",
   "metadata": {},
   "outputs": [],
   "source": [
    "element = driver.find_element(By.CLASS_NAME, value = 'JobDueTime_JobDueTime__iKbEO')"
   ]
  },
  {
   "cell_type": "code",
   "execution_count": 39,
   "id": "00f88364",
   "metadata": {},
   "outputs": [
    {
     "data": {
      "text/plain": [
       "'마감일\\n2024.05.19'"
      ]
     },
     "execution_count": 39,
     "metadata": {},
     "output_type": "execute_result"
    }
   ],
   "source": [
    "element.text"
   ]
  },
  {
   "cell_type": "code",
   "execution_count": null,
   "id": "30fd5c09",
   "metadata": {},
   "outputs": [],
   "source": []
  }
 ],
 "metadata": {
  "kernelspec": {
   "display_name": "Python 3 (ipykernel)",
   "language": "python",
   "name": "python3"
  },
  "language_info": {
   "codemirror_mode": {
    "name": "ipython",
    "version": 3
   },
   "file_extension": ".py",
   "mimetype": "text/x-python",
   "name": "python",
   "nbconvert_exporter": "python",
   "pygments_lexer": "ipython3",
   "version": "3.9.12"
  }
 },
 "nbformat": 4,
 "nbformat_minor": 5
}
