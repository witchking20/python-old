{
 "cells": [
  {
   "cell_type": "code",
   "execution_count": 1,
   "id": "5e08aa71",
   "metadata": {},
   "outputs": [],
   "source": [
    "# !pip install webdriver_manager\n",
    "from selenium import webdriver\n",
    "from selenium.webdriver.chrome.service import Service\n",
    "from webdriver_manager.chrome import ChromeDriverManager\n",
    "from selenium.webdriver.common.by import By\n",
    "from selenium.webdriver.common.keys import Keys\n",
    "import time\n",
    "from bs4 import BeautifulSoup\n",
    "import re\n",
    "import pandas as pd\n",
    "import numpy as np\n",
    "from tqdm import tqdm\n",
    "import os\n",
    "import pymysql"
   ]
  },
  {
   "cell_type": "code",
   "execution_count": 2,
   "id": "4636d8f5",
   "metadata": {},
   "outputs": [],
   "source": [
    "one = []  #기업명\n",
    "two = []  #근무지\n",
    "three = [] #경력\n",
    "four = [] #채용공고\n",
    "five = [] #태그\n",
    "six = [] #마감일\n",
    "seven = [] #근무지(상세)\n",
    "\n",
    "title = []\n",
    "name = []\n",
    "career = []\n",
    "loc = []\n",
    "tag = []\n",
    "timeout = []\n",
    "loc2 = []"
   ]
  },
  {
   "cell_type": "code",
   "execution_count": 3,
   "id": "5659f543",
   "metadata": {},
   "outputs": [],
   "source": [
    "driver = webdriver.Chrome(\"\")"
   ]
  },
  {
   "cell_type": "code",
   "execution_count": 4,
   "id": "cb814504",
   "metadata": {},
   "outputs": [],
   "source": [
    "url = 'https://www.wanted.co.kr/wdlist/518?country=kr&job_sort=job.recommend_order&years=0&selected=873&selected=669&selected=1024&selected=655&selected=899&locations=seoul.all'\n",
    "driver.get(url)\n",
    "current_window_handle = driver.current_window_handle"
   ]
  },
  {
   "cell_type": "code",
   "execution_count": 6,
   "id": "121de87f",
   "metadata": {},
   "outputs": [],
   "source": [
    "def page_down():\n",
    "    prev_height = driver.execute_script('return document.body.scrollHeight')\n",
    "\n",
    "    while True:\n",
    "        driver.execute_script('window.scrollTo(0, document.body.scrollHeight);')\n",
    "        time.sleep(2)\n",
    "\n",
    "        curr_height = driver.execute_script('return document.body.scrollHeight')\n",
    "        if curr_height == prev_height:\n",
    "            break\n",
    "        prev_height = curr_height"
   ]
  },
  {
   "cell_type": "code",
   "execution_count": 5,
   "id": "a68384cb",
   "metadata": {},
   "outputs": [],
   "source": [
    "driver.find_element(By.XPATH, value='//*[@id=\"__next\"]/div[3]/div[2]/ul/li[1]').click()"
   ]
  },
  {
   "cell_type": "code",
   "execution_count": 6,
   "id": "40ac20d9",
   "metadata": {},
   "outputs": [],
   "source": [
    "element = driver.find_element(By.CLASS_NAME, value = 'JobHeader_JobHeader__DBrFJ')"
   ]
  },
  {
   "cell_type": "code",
   "execution_count": 7,
   "id": "19ae0e5b",
   "metadata": {},
   "outputs": [
    {
     "data": {
      "text/plain": [
       "'오엠티아이코리아∙서울 서초구∙신입\\n[신입] ASP.NET 개발자'"
      ]
     },
     "execution_count": 7,
     "metadata": {},
     "output_type": "execute_result"
    }
   ],
   "source": [
    "element.text"
   ]
  },
  {
   "cell_type": "code",
   "execution_count": 8,
   "id": "8a828f36",
   "metadata": {},
   "outputs": [],
   "source": [
    "one.append(element.text)"
   ]
  },
  {
   "cell_type": "code",
   "execution_count": 9,
   "id": "324bc90d",
   "metadata": {},
   "outputs": [
    {
     "name": "stdout",
     "output_type": "stream",
     "text": [
      "오엠티아이코리아\n",
      "서울 서초구\n",
      "신입\n",
      "[신입] ASP.NET 개발자\n"
     ]
    }
   ],
   "source": [
    "print(element.text.split('\\n')[0].split('∙')[0])\n",
    "print(element.text.split('\\n')[0].split('∙')[1])\n",
    "print(element.text.split('\\n')[0].split('∙')[2])\n",
    "print(element.text.split('\\n')[1])\n",
    "\n",
    "name.append(element.text.split('\\n')[0].split('∙')[0])\n",
    "loc.append(element.text.split('\\n')[0].split('∙')[1])\n",
    "career.append(element.text.split('\\n')[0].split('∙')[2])\n",
    "title.append(element.text.split('\\n')[1])"
   ]
  },
  {
   "cell_type": "code",
   "execution_count": 24,
   "id": "a1cccb01",
   "metadata": {},
   "outputs": [],
   "source": [
    "element = driver.find_element(By.CLASS_NAME, value = 'CompanyTags_CompanyTags__wpSCo')"
   ]
  },
  {
   "cell_type": "code",
   "execution_count": 25,
   "id": "ed24d7ba",
   "metadata": {},
   "outputs": [
    {
     "data": {
      "text/plain": [
       "'태그\\n커피·스낵바\\n편의시설\\n연봉상위11~20%\\n50명이하\\n설립10년이상'"
      ]
     },
     "execution_count": 25,
     "metadata": {},
     "output_type": "execute_result"
    }
   ],
   "source": [
    "element.text"
   ]
  },
  {
   "cell_type": "code",
   "execution_count": 26,
   "id": "a8a9faf9",
   "metadata": {},
   "outputs": [
    {
     "data": {
      "text/plain": [
       "['태그', '커피·스낵바', '편의시설', '연봉상위11~20%', '50명이하', '설립10년이상']"
      ]
     },
     "execution_count": 26,
     "metadata": {},
     "output_type": "execute_result"
    }
   ],
   "source": [
    "element.text.split('\\n')"
   ]
  },
  {
   "cell_type": "code",
   "execution_count": 27,
   "id": "a3466c12",
   "metadata": {},
   "outputs": [],
   "source": [
    "two.append(element.text.split('\\n')[1:])"
   ]
  },
  {
   "cell_type": "code",
   "execution_count": 15,
   "id": "81e3d37f",
   "metadata": {},
   "outputs": [],
   "source": [
    "tag.append(element.text.split('\\n')[1:])"
   ]
  },
  {
   "cell_type": "code",
   "execution_count": 16,
   "id": "edeff18c",
   "metadata": {},
   "outputs": [
    {
     "data": {
      "text/plain": [
       "[['커피·스낵바', '편의시설', '연봉상위11~20%', '50명이하', '설립10년이상']]"
      ]
     },
     "execution_count": 16,
     "metadata": {},
     "output_type": "execute_result"
    }
   ],
   "source": [
    "tag"
   ]
  },
  {
   "cell_type": "code",
   "execution_count": 31,
   "id": "18cf4c96",
   "metadata": {},
   "outputs": [],
   "source": [
    "element = driver.find_element(By.CLASS_NAME, value = 'JobDueTime_JobDueTime__iKbEO')"
   ]
  },
  {
   "cell_type": "code",
   "execution_count": 18,
   "id": "1644d5ef",
   "metadata": {},
   "outputs": [
    {
     "data": {
      "text/plain": [
       "'마감일\\n2024.05.19'"
      ]
     },
     "execution_count": 18,
     "metadata": {},
     "output_type": "execute_result"
    }
   ],
   "source": [
    "element.text"
   ]
  },
  {
   "cell_type": "code",
   "execution_count": 19,
   "id": "30ec4eff",
   "metadata": {},
   "outputs": [
    {
     "data": {
      "text/plain": [
       "['마감일', '2024.05.19']"
      ]
     },
     "execution_count": 19,
     "metadata": {},
     "output_type": "execute_result"
    }
   ],
   "source": [
    "element.text.split('\\n')"
   ]
  },
  {
   "cell_type": "code",
   "execution_count": 34,
   "id": "0e45d3c7",
   "metadata": {},
   "outputs": [
    {
     "data": {
      "text/plain": [
       "'2024.05.19'"
      ]
     },
     "execution_count": 34,
     "metadata": {},
     "output_type": "execute_result"
    }
   ],
   "source": [
    "element.text.split('\\n')[1]"
   ]
  },
  {
   "cell_type": "code",
   "execution_count": 37,
   "id": "b7b2011b",
   "metadata": {},
   "outputs": [],
   "source": [
    "three.append(element.text.split('\\n')[1])"
   ]
  },
  {
   "cell_type": "code",
   "execution_count": 38,
   "id": "ccf4befb",
   "metadata": {},
   "outputs": [],
   "source": [
    "timeout.append(element.text.split('\\n')[1])"
   ]
  },
  {
   "cell_type": "code",
   "execution_count": 40,
   "id": "45e141a2",
   "metadata": {},
   "outputs": [],
   "source": [
    "element = driver.find_element(By.CLASS_NAME, value = 'JobWorkPlace_JobWorkPlace__5fs5x')"
   ]
  },
  {
   "cell_type": "code",
   "execution_count": 41,
   "id": "e992ab3b",
   "metadata": {},
   "outputs": [
    {
     "data": {
      "text/plain": [
       "'근무지역\\n서울특별시 서초구 서초대로27길 54, 1층'"
      ]
     },
     "execution_count": 41,
     "metadata": {},
     "output_type": "execute_result"
    }
   ],
   "source": [
    "element.text"
   ]
  },
  {
   "cell_type": "code",
   "execution_count": 42,
   "id": "724309ee",
   "metadata": {},
   "outputs": [
    {
     "data": {
      "text/plain": [
       "['근무지역', '서울특별시 서초구 서초대로27길 54, 1층']"
      ]
     },
     "execution_count": 42,
     "metadata": {},
     "output_type": "execute_result"
    }
   ],
   "source": [
    "element.text.split('\\n')"
   ]
  },
  {
   "cell_type": "code",
   "execution_count": 43,
   "id": "9cfdf6dc",
   "metadata": {},
   "outputs": [],
   "source": [
    "four.append(element.text.split('\\n')[1])"
   ]
  },
  {
   "cell_type": "code",
   "execution_count": 44,
   "id": "923d9187",
   "metadata": {},
   "outputs": [],
   "source": [
    "loc2.append(element.text.split('\\n')[1])"
   ]
  },
  {
   "cell_type": "code",
   "execution_count": 45,
   "id": "9ee3a6fc",
   "metadata": {},
   "outputs": [],
   "source": [
    "driver.back()"
   ]
  },
  {
   "cell_type": "markdown",
   "id": "2711b345",
   "metadata": {},
   "source": [
    "\n",
    "\n",
    "\n",
    "\n",
    "\n",
    "\n",
    "\n",
    "\n",
    "\n",
    "\n",
    "\n",
    "\n",
    "\n",
    "\n",
    "\n",
    "\n",
    "\n",
    "\n",
    "\n",
    "\n",
    "\n"
   ]
  },
  {
   "cell_type": "code",
   "execution_count": 46,
   "id": "7c4dd7a2",
   "metadata": {},
   "outputs": [],
   "source": [
    "df = pd.DataFrame()"
   ]
  },
  {
   "cell_type": "code",
   "execution_count": 48,
   "id": "d826e377",
   "metadata": {},
   "outputs": [],
   "source": [
    "df['회사명'] = name\n",
    "df['근무지'] = loc\n",
    "df['경력'] = career\n",
    "df['채용공고'] = title\n",
    "df['태그'] = tag\n",
    "df['마감일'] = timeout\n",
    "df['근무지_상세'] = loc2\n"
   ]
  },
  {
   "cell_type": "code",
   "execution_count": 49,
   "id": "81c7c1a3",
   "metadata": {},
   "outputs": [
    {
     "data": {
      "text/html": [
       "<div>\n",
       "<style scoped>\n",
       "    .dataframe tbody tr th:only-of-type {\n",
       "        vertical-align: middle;\n",
       "    }\n",
       "\n",
       "    .dataframe tbody tr th {\n",
       "        vertical-align: top;\n",
       "    }\n",
       "\n",
       "    .dataframe thead th {\n",
       "        text-align: right;\n",
       "    }\n",
       "</style>\n",
       "<table border=\"1\" class=\"dataframe\">\n",
       "  <thead>\n",
       "    <tr style=\"text-align: right;\">\n",
       "      <th></th>\n",
       "      <th>회사명</th>\n",
       "      <th>근무지</th>\n",
       "      <th>경력</th>\n",
       "      <th>채용공고</th>\n",
       "      <th>태그</th>\n",
       "      <th>마감일</th>\n",
       "      <th>근무지_상세</th>\n",
       "    </tr>\n",
       "  </thead>\n",
       "  <tbody>\n",
       "    <tr>\n",
       "      <th>0</th>\n",
       "      <td>오엠티아이코리아</td>\n",
       "      <td>서울 서초구</td>\n",
       "      <td>신입</td>\n",
       "      <td>[신입] ASP.NET 개발자</td>\n",
       "      <td>[커피·스낵바, 편의시설, 연봉상위11~20%, 50명이하, 설립10년이상]</td>\n",
       "      <td>2024.05.19</td>\n",
       "      <td>서울특별시 서초구 서초대로27길 54, 1층</td>\n",
       "    </tr>\n",
       "  </tbody>\n",
       "</table>\n",
       "</div>"
      ],
      "text/plain": [
       "        회사명     근무지  경력              채용공고  \\\n",
       "0  오엠티아이코리아  서울 서초구  신입  [신입] ASP.NET 개발자   \n",
       "\n",
       "                                           태그         마감일  \\\n",
       "0  [커피·스낵바, 편의시설, 연봉상위11~20%, 50명이하, 설립10년이상]  2024.05.19   \n",
       "\n",
       "                     근무지_상세  \n",
       "0  서울특별시 서초구 서초대로27길 54, 1층  "
      ]
     },
     "execution_count": 49,
     "metadata": {},
     "output_type": "execute_result"
    }
   ],
   "source": [
    "df"
   ]
  },
  {
   "cell_type": "markdown",
   "id": "636b486a",
   "metadata": {},
   "source": [
    "\n",
    "\n",
    "\n",
    "\n",
    "\n",
    "\n",
    "\n",
    "\n",
    "\n",
    "\n",
    "\n",
    "\n",
    "\n",
    "\n",
    "\n",
    "\n",
    "\n",
    "\n",
    "\n",
    "\n"
   ]
  },
  {
   "cell_type": "markdown",
   "id": "7989fa21",
   "metadata": {},
   "source": [
    "\n",
    "\n",
    "\n",
    "\n",
    "\n",
    "\n",
    "\n",
    "\n",
    "\n",
    "\n",
    "\n",
    "\n",
    "\n",
    "\n",
    "\n",
    "\n",
    "\n",
    "\n",
    "\n",
    "\n",
    "\n",
    "\n",
    "\n",
    "\n",
    "\n",
    "\n",
    "\n",
    "\n",
    "\n",
    "\n",
    "\n",
    "\n",
    "\n"
   ]
  },
  {
   "cell_type": "code",
   "execution_count": 83,
   "id": "33885d50",
   "metadata": {},
   "outputs": [],
   "source": [
    "def craw():\n",
    "    for j in range(1,5):\n",
    "        time.sleep(3)\n",
    "        if j == 1:\n",
    "            try:\n",
    "                element = driver.find_element(By.CLASS_NAME, value = 'JobHeader_JobHeader__DBrFJ')\n",
    "                name.append(element.text.split('\\n')[0].split('∙')[0])\n",
    "                loc.append(element.text.split('\\n')[0].split('∙')[1])\n",
    "                career.append(element.text.split('\\n')[0].split('∙')[2])\n",
    "                title.append(element.text.split('\\n')[1])\n",
    "\n",
    "                one.append(element.text.split('\\n')[0].split('∙')[0])\n",
    "                two.append(element.text.split('\\n')[0].split('∙')[1])\n",
    "                three.append(element.text.split('\\n')[0].split('∙')[2])\n",
    "                four.append(element.text.split('\\n')[1])\n",
    "            except:\n",
    "                name.append('')\n",
    "                loc.append('')\n",
    "                career.append('')\n",
    "                title.append('')\n",
    "        elif j == 2:\n",
    "            try:\n",
    "                element = driver.find_element(By.CLASS_NAME, value = 'CompanyTags_CompanyTags__wpSCo')\n",
    "                two.append(element.text.split('\\n')[1:])\n",
    "                tag.append(element.text.split('\\n')[1:])\n",
    "            except:\n",
    "                two.append('')\n",
    "                tag.append('')\n",
    "        elif j == 3:\n",
    "            try:\n",
    "                element = driver.find_element(By.CLASS_NAME, value = 'JobDueTime_JobDueTime__iKbEO')\n",
    "                three.append(element.text.split('\\n')[1])\n",
    "                timeout.append(element.text.split('\\n')[1])\n",
    "            except:\n",
    "                three.append('')\n",
    "                timeout.append('')\n",
    "        else:\n",
    "            try:\n",
    "                element = driver.find_element(By.CLASS_NAME, value = 'JobWorkPlace_JobWorkPlace__5fs5x')\n",
    "                four.append(element.text.split('\\n')[1])\n",
    "                loc2.append(element.text.split('\\n')[1])\n",
    "            except:\n",
    "                four.append('')\n",
    "                loc2.append('')"
   ]
  },
  {
   "cell_type": "code",
   "execution_count": 87,
   "id": "1cc85796",
   "metadata": {},
   "outputs": [
    {
     "name": "stderr",
     "output_type": "stream",
     "text": [
      "100%|█████████████████████████████████████████████████████████████████████████████████| 4/4 [01:14<00:00, 18.69s/it]\n"
     ]
    }
   ],
   "source": [
    "\n",
    "\n",
    "page_down()\n",
    "\n",
    "for i in tqdm(range(1,200)):\n",
    "    time.sleep(5)\n",
    "    try:\n",
    "        driver.find_element(By.XPATH, value=f'//*[@id=\"__next\"]/div[3]/div[2]/ul/li[{i}]').click()\n",
    "        craw()\n",
    "        time.sleep(1)\n",
    "        driver.back()\n",
    "    except:\n",
    "        print(f'{i}개의 데이터 수집완료')\n",
    "        break"
   ]
  },
  {
   "cell_type": "code",
   "execution_count": 90,
   "id": "87a54830",
   "metadata": {},
   "outputs": [
    {
     "name": "stdout",
     "output_type": "stream",
     "text": [
      "4\n",
      "4\n",
      "4\n",
      "4\n",
      "4\n",
      "4\n",
      "4\n"
     ]
    }
   ],
   "source": [
    "print(len(name))\n",
    "print(len(title))\n",
    "print(len(loc))\n",
    "print(len(loc2))\n",
    "print(len(tag))\n",
    "print(len(timeout))\n",
    "print(len(career))\n"
   ]
  },
  {
   "cell_type": "code",
   "execution_count": 7,
   "id": "e6c80e2b",
   "metadata": {},
   "outputs": [],
   "source": [
    "df = pd.DataFrame()"
   ]
  },
  {
   "cell_type": "code",
   "execution_count": 8,
   "id": "bd1e5206",
   "metadata": {},
   "outputs": [],
   "source": [
    "df['기업명'] = name\n",
    "df['채용공고'] = title\n",
    "df['위치'] = loc\n",
    "df['위치상세'] = loc2\n",
    "df['태그'] = tag\n",
    "df['마감일'] = timeout\n",
    "df['경력'] = career\n"
   ]
  },
  {
   "cell_type": "code",
   "execution_count": 9,
   "id": "854eaa4b",
   "metadata": {},
   "outputs": [
    {
     "data": {
      "text/plain": [
       "Series([], Name: 경력, dtype: float64)"
      ]
     },
     "execution_count": 9,
     "metadata": {},
     "output_type": "execute_result"
    }
   ],
   "source": [
    "df['경력']"
   ]
  },
  {
   "cell_type": "code",
   "execution_count": 77,
   "id": "f4b01d1f",
   "metadata": {},
   "outputs": [],
   "source": []
  },
  {
   "cell_type": "code",
   "execution_count": null,
   "id": "0a34754c",
   "metadata": {},
   "outputs": [],
   "source": []
  }
 ],
 "metadata": {
  "kernelspec": {
   "display_name": "Python 3 (ipykernel)",
   "language": "python",
   "name": "python3"
  },
  "language_info": {
   "codemirror_mode": {
    "name": "ipython",
    "version": 3
   },
   "file_extension": ".py",
   "mimetype": "text/x-python",
   "name": "python",
   "nbconvert_exporter": "python",
   "pygments_lexer": "ipython3",
   "version": "3.9.12"
  }
 },
 "nbformat": 4,
 "nbformat_minor": 5
}
